{
 "cells": [
  {
   "cell_type": "code",
   "execution_count": 1,
   "metadata": {},
   "outputs": [],
   "source": [
    "import numpy as np\n",
    "from scipy.stats import multivariate_normal\n",
    "import matplotlib.pyplot as plt\n",
    "\n",
    "x, y, z = np.mgrid[0:1:199j, 0:1:199j, 0:1:199j]\n",
    "# Need an (N, 2) array of (x, y) pairs.\n",
    "xyz = np.column_stack([x.flat, y.flat, z.flat])\n",
    "\n",
    "mu = np.array([.5, .5, 0])\n",
    "\n",
    "sigma = np.array([.25, .25, .15])\n",
    "covariance = np.diag(sigma**2)\n",
    "\n",
    "val = multivariate_normal.pdf(xyz, mean=mu, cov=covariance)\n",
    "\n",
    "# Reshape back to a (30, 30) grid.\n",
    "val = val.reshape(x.shape)\n",
    "\n",
    "# Normalize max to 100 (ppmv) and transpose so orientation is correct (z up)\n",
    "val = val.T*(100/val.max())"
   ]
  },
  {
   "cell_type": "code",
   "execution_count": 2,
   "metadata": {},
   "outputs": [],
   "source": [
    "#plt.contourf(val[:, :, 100])\n",
    "#val[:, :, 100].max()"
   ]
  },
  {
   "cell_type": "code",
   "execution_count": 3,
   "metadata": {},
   "outputs": [],
   "source": [
    "new_o3_vals = np.ma.array(np.array([val]), mask=False, dtype='float32')"
   ]
  },
  {
   "cell_type": "code",
   "execution_count": 4,
   "metadata": {},
   "outputs": [],
   "source": [
    "# Code via https://stackoverflow.com/questions/15141563/python-netcdf-making-a-copy-of-all-variables-and-attributes-but-one\n",
    "# User Rich Signell\n",
    "from netCDF4 import Dataset\n",
    "\n",
    "toexclude = ['o3']\n",
    "\n",
    "src = Dataset(\"wrfinput_d01\")\n",
    "dst = Dataset(\"wrfinput_d01_new\", \"w\")\n",
    "\n",
    "# copy global attributes all at once via dictionary\n",
    "dst.setncatts(src.__dict__)\n",
    "# copy dimensions\n",
    "for name, dimension in src.dimensions.items():\n",
    "    dst.createDimension(\n",
    "        name, (len(dimension) if not dimension.isunlimited() else None))\n",
    "# copy all file data except for the excluded\n",
    "for name, variable in src.variables.items():\n",
    "    if name not in toexclude:\n",
    "        x = dst.createVariable(name, variable.datatype, variable.dimensions)\n",
    "        dst[name][:] = src[name][:]\n",
    "        # copy variable attributes all at once via dictionary\n",
    "        dst[name].setncatts(src[name].__dict__)\n",
    "    else:\n",
    "        x = dst.createVariable(name, variable.datatype, variable.dimensions)\n",
    "        dst[name][:] = new_o3_vals\n",
    "        # copy variable attributes all at once via dictionary\n",
    "        dst[name].setncatts(src[name].__dict__)\n",
    "        \n",
    "src.close()\n",
    "dst.close()\n",
    "    "
   ]
  },
  {
   "cell_type": "code",
   "execution_count": 5,
   "metadata": {},
   "outputs": [],
   "source": [
    "origin_ncfile = Dataset(\"/data/keeling/a/sf20/b/WRF4_4/WRF/test/em_les/wrfinput_d01\")\n",
    "new_ncfile = Dataset(\"/data/keeling/a/sf20/b/WRF4_4/WRF/test/em_les/wrfinput_d01_new\")"
   ]
  },
  {
   "cell_type": "code",
   "execution_count": 6,
   "metadata": {},
   "outputs": [
    {
     "data": {
      "text/plain": [
       "<matplotlib.contour.QuadContourSet at 0x2adbd3734970>"
      ]
     },
     "execution_count": 6,
     "metadata": {},
     "output_type": "execute_result"
    },
    {
     "data": {
      "image/png": "[encoded data removed]",
      "text/plain": [
       "<Figure size 432x288 with 1 Axes>"
      ]
     },
     "metadata": {
      "needs_background": "light"
     },
     "output_type": "display_data"
    }
   ],
   "source": [
    "saved_o3_data = new_ncfile.variables['o3'][:].data[0]\n",
    "plt.contourf(saved_o3_data[:, :, 100])"
   ]
  }
 ],
 "metadata": {
  "kernelspec": {
   "display_name": "Python 3.9.6 64-bit",
   "language": "python",
   "name": "python3"
  },
  "language_info": {
   "codemirror_mode": {
    "name": "ipython",
    "version": 3
   },
   "file_extension": ".py",
   "mimetype": "text/x-python",
   "name": "python",
   "nbconvert_exporter": "python",
   "pygments_lexer": "ipython3",
   "version": "3.9.6"
  },
  "orig_nbformat": 4,
  "vscode": {
   "interpreter": {
    "hash": "31f2aee4e71d21fbe5cf8b01ff0e069b9275f58929596ceb00d14d90e3e16cd6"
   }
  }
 },
 "nbformat": 4,
 "nbformat_minor": 2
}
