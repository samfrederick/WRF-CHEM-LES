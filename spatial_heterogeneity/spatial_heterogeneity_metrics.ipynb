{
 "cells": [
  {
   "cell_type": "code",
   "execution_count": 19,
   "metadata": {},
   "outputs": [],
   "source": [
    "import numpy as np\n",
    "import matplotlib.pyplot as plt\n",
    "import time"
   ]
  },
  {
   "cell_type": "code",
   "execution_count": 29,
   "metadata": {},
   "outputs": [],
   "source": [
    "# The following are the python functions for obtaining the spatial heterogeneity\n",
    "# metrics. Discrete Hk norms(Enter numpy array f, real value k, and grid dimension L)\n",
    "\n",
    "def HkNorm(f, k, L): \n",
    "    N=0\n",
    "    F = np.fft.fft2(f)\n",
    "    F = np.absolute(F)\n",
    "    for i , x1 in enumerate(F): \n",
    "        for j , x in enumerate(x1):\n",
    "            N += np.power(1.+(i*i+j*j)*L*L, k)*(x*x) \n",
    "    N = np.sqrt(N)\n",
    "    return N\n",
    "\n",
    "def SH(f): \n",
    "    start = time.time()\n",
    "    \n",
    "    m = np.mean(f)\n",
    "    G = 0\n",
    "    d1 = f.shape[0]\n",
    "    d2 = f.shape[1]\n",
    "    f = np.hstack((f, f))\n",
    "    f = np.vstack((f, f))\n",
    "    for y1 in range(d1+1):\n",
    "        for y2 in range(y1+1,y1+d1+1):\n",
    "            for x1 in range(d2+1):\n",
    "                for x2 in range(x1+1,x1+d2+1): \n",
    "                    fbar = f[y1:y2,x1:x2]\n",
    "                    G += abs(np.mean(fbar) - m)\n",
    "                    \n",
    "    end = time.time()\n",
    "    elapsed = end-start\n",
    "    print(f'SH function duration: {elapsed:3.2f}')\n",
    "    return G/(d1*d1*d2*d2)\n",
    "\n",
    "def NSH(f):\n",
    "    m = np.mean(f)\n",
    "    if m == 0:\n",
    "        return 0\n",
    "    else: \n",
    "        G = 0\n",
    "        d1 = f.shape[0]\n",
    "        d2 = f.shape[1]\n",
    "        f = np.hstack((f, f))\n",
    "        f = np.vstack((f ,f))\n",
    "        for y1 in range(d1+1):\n",
    "            for y2 in range(y1+1,y1+d1+1):\n",
    "                for x1 in range(d2+1):\n",
    "                    for x2 in range(x1+1,x1+d2+1):\n",
    "                        fbar = f [y1:y2,x1:x2]\n",
    "                        G += abs(np.mean(fbar) - m)\n",
    "        return G/(d1*d1*d2*d2*m)"
   ]
  }
 ],
 "metadata": {
  "kernelspec": {
   "display_name": "base",
   "language": "python",
   "name": "python3"
  },
  "language_info": {
   "codemirror_mode": {
    "name": "ipython",
    "version": 3
   },
   "file_extension": ".py",
   "mimetype": "text/x-python",
   "name": "python",
   "nbconvert_exporter": "python",
   "pygments_lexer": "ipython3",
   "version": "3.9.12"
  },
  "orig_nbformat": 4,
  "vscode": {
   "interpreter": {
    "hash": "061342e0b2b237822d313d90eb843b2691a434c026b842ed01c55ab7ca03c933"
   }
  }
 },
 "nbformat": 4,
 "nbformat_minor": 2
}
