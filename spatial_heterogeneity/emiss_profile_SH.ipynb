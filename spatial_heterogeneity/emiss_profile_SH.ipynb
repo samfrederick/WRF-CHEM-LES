{
 "cells": [
  {
   "cell_type": "code",
   "execution_count": 3,
   "metadata": {},
   "outputs": [],
   "source": [
    "import numpy as np\n",
    "import pandas as pd\n",
    "from SH_rand import SH_random_serial_ensemble"
   ]
  },
  {
   "cell_type": "code",
   "execution_count": 4,
   "metadata": {},
   "outputs": [],
   "source": [
    "def HkNorm(f, k, L): \n",
    "    N=0\n",
    "    F = np.fft.fft2(f)\n",
    "    F = np.absolute(F)\n",
    "    for i , x1 in enumerate(F): \n",
    "        for j , x in enumerate(x1):\n",
    "            N += np.power(1.+(i*i+j*j)*L*L, k)*(x*x) \n",
    "    N = np.sqrt(N)\n",
    "    return N\n"
   ]
  },
  {
   "cell_type": "code",
   "execution_count": 5,
   "metadata": {},
   "outputs": [],
   "source": [
    "def checkerboard(fx, fy, xrange=100, yrange=100):\n",
    "    \n",
    "    #print(f'Number of grid cells: {xrange*yrange}')\n",
    "    k = fx*2*np.pi/xrange #wavenumber 2pi / L\n",
    "    m = fy*2*np.pi/yrange\n",
    "\n",
    "    epsilon = 0.001\n",
    "\n",
    "    x=np.arange(xrange)\n",
    "    y=np.arange(yrange)\n",
    "    X,Y=np.meshgrid(x,y)\n",
    "    #define a 2D wave using the parameters (A, k, and c)\n",
    "\n",
    "    A = 1\n",
    "    phi=A*np.sin(k*X+epsilon)*A*np.sin(m*Y+epsilon)\n",
    "    #gradx, grady = np.gradient(phi)\n",
    "\n",
    "    phi_star = phi.copy()\n",
    "\n",
    "    phi_star[phi_star > 0] = 1\n",
    "    phi_star[phi_star <= 0] = 0\n",
    "\n",
    "    return x, y, phi_star"
   ]
  },
  {
   "cell_type": "code",
   "execution_count": 6,
   "metadata": {},
   "outputs": [],
   "source": [
    "grid_res = 100\n",
    "permutation_array = np.load(f'{grid_res}x{grid_res}_permutation_array.npy').astype(int)"
   ]
  },
  {
   "cell_type": "code",
   "execution_count": 11,
   "metadata": {},
   "outputs": [
    {
     "name": "stdout",
     "output_type": "stream",
     "text": [
      "fx=0, fy=0\n",
      "fx=0, fy=1\n",
      "fx=0, fy=2\n",
      "fx=1, fy=0\n",
      "fx=1, fy=1\n",
      "fx=1, fy=2\n",
      "fx=2, fy=0\n",
      "fx=2, fy=1\n",
      "fx=2, fy=2\n"
     ]
    }
   ],
   "source": [
    "n_estimates = 100\n",
    "n_permutations = 1000\n",
    "profile_sh_df = pd.DataFrame(columns=['nx_ny', 'fx', 'fy', 'SH', 'SH_std_err'])\n",
    "i = 0\n",
    "for fx in [0,1,2]:\n",
    "    for fy in [0,1,2]:\n",
    "        print(f'fx={fx}, fy={fy}')\n",
    "        x, y, phi_star = checkerboard(fx, fy, xrange=grid_res, yrange=grid_res)\n",
    "        #SH_estimate, SH_estimates = SH_random_serial_ensemble(n_estimates=n_estimates, array=phi_star, \n",
    "        #                            n_permutations=n_permutations, permutation_array=permutation_array)\n",
    "        profile_sh_df.loc[i, 'nx_ny'] = grid_res\n",
    "        profile_sh_df.loc[i, 'fx'] = fx\n",
    "        profile_sh_df.loc[i, 'fy'] = fy\n",
    "        #profile_sh_df.loc[i, 'SH'] = SH_estimate\n",
    "        #profile_sh_df.loc[i, 'SH_std_err'] = SH_estimates.std() / np.sqrt(n_estimates)\n",
    "\n",
    "        HkNorm_value = HkNorm(phi_star, k=-1, L=1)\n",
    "        profile_sh_df.loc[i, 'H-1Norm'] = round(HkNorm_value)\n",
    "        i += 1"
   ]
  },
  {
   "cell_type": "code",
   "execution_count": 12,
   "metadata": {},
   "outputs": [
    {
     "data": {
      "text/html": [
       "<div>\n",
       "<style scoped>\n",
       "    .dataframe tbody tr th:only-of-type {\n",
       "        vertical-align: middle;\n",
       "    }\n",
       "\n",
       "    .dataframe tbody tr th {\n",
       "        vertical-align: top;\n",
       "    }\n",
       "\n",
       "    .dataframe thead th {\n",
       "        text-align: right;\n",
       "    }\n",
       "</style>\n",
       "<table border=\"1\" class=\"dataframe\">\n",
       "  <thead>\n",
       "    <tr style=\"text-align: right;\">\n",
       "      <th></th>\n",
       "      <th>nx_ny</th>\n",
       "      <th>fx</th>\n",
       "      <th>fy</th>\n",
       "      <th>SH</th>\n",
       "      <th>SH_std_err</th>\n",
       "      <th>H-1Norm</th>\n",
       "    </tr>\n",
       "  </thead>\n",
       "  <tbody>\n",
       "    <tr>\n",
       "      <th>0</th>\n",
       "      <td>100</td>\n",
       "      <td>0</td>\n",
       "      <td>0</td>\n",
       "      <td>NaN</td>\n",
       "      <td>NaN</td>\n",
       "      <td>10000.0</td>\n",
       "    </tr>\n",
       "    <tr>\n",
       "      <th>1</th>\n",
       "      <td>100</td>\n",
       "      <td>0</td>\n",
       "      <td>1</td>\n",
       "      <td>NaN</td>\n",
       "      <td>NaN</td>\n",
       "      <td>5496.0</td>\n",
       "    </tr>\n",
       "    <tr>\n",
       "      <th>2</th>\n",
       "      <td>100</td>\n",
       "      <td>0</td>\n",
       "      <td>2</td>\n",
       "      <td>NaN</td>\n",
       "      <td>NaN</td>\n",
       "      <td>5203.0</td>\n",
       "    </tr>\n",
       "    <tr>\n",
       "      <th>3</th>\n",
       "      <td>100</td>\n",
       "      <td>1</td>\n",
       "      <td>0</td>\n",
       "      <td>NaN</td>\n",
       "      <td>NaN</td>\n",
       "      <td>5496.0</td>\n",
       "    </tr>\n",
       "    <tr>\n",
       "      <th>4</th>\n",
       "      <td>100</td>\n",
       "      <td>1</td>\n",
       "      <td>1</td>\n",
       "      <td>NaN</td>\n",
       "      <td>NaN</td>\n",
       "      <td>5146.0</td>\n",
       "    </tr>\n",
       "    <tr>\n",
       "      <th>5</th>\n",
       "      <td>100</td>\n",
       "      <td>1</td>\n",
       "      <td>2</td>\n",
       "      <td>NaN</td>\n",
       "      <td>NaN</td>\n",
       "      <td>5074.0</td>\n",
       "    </tr>\n",
       "    <tr>\n",
       "      <th>6</th>\n",
       "      <td>100</td>\n",
       "      <td>2</td>\n",
       "      <td>0</td>\n",
       "      <td>NaN</td>\n",
       "      <td>NaN</td>\n",
       "      <td>5203.0</td>\n",
       "    </tr>\n",
       "    <tr>\n",
       "      <th>7</th>\n",
       "      <td>100</td>\n",
       "      <td>2</td>\n",
       "      <td>1</td>\n",
       "      <td>NaN</td>\n",
       "      <td>NaN</td>\n",
       "      <td>5074.0</td>\n",
       "    </tr>\n",
       "    <tr>\n",
       "      <th>8</th>\n",
       "      <td>100</td>\n",
       "      <td>2</td>\n",
       "      <td>2</td>\n",
       "      <td>NaN</td>\n",
       "      <td>NaN</td>\n",
       "      <td>5049.0</td>\n",
       "    </tr>\n",
       "  </tbody>\n",
       "</table>\n",
       "</div>"
      ],
      "text/plain": [
       "  nx_ny fx fy   SH SH_std_err  H-1Norm\n",
       "0   100  0  0  NaN        NaN  10000.0\n",
       "1   100  0  1  NaN        NaN   5496.0\n",
       "2   100  0  2  NaN        NaN   5203.0\n",
       "3   100  1  0  NaN        NaN   5496.0\n",
       "4   100  1  1  NaN        NaN   5146.0\n",
       "5   100  1  2  NaN        NaN   5074.0\n",
       "6   100  2  0  NaN        NaN   5203.0\n",
       "7   100  2  1  NaN        NaN   5074.0\n",
       "8   100  2  2  NaN        NaN   5049.0"
      ]
     },
     "execution_count": 12,
     "metadata": {},
     "output_type": "execute_result"
    }
   ],
   "source": [
    "profile_sh_df"
   ]
  }
 ],
 "metadata": {
  "kernelspec": {
   "display_name": "base",
   "language": "python",
   "name": "python3"
  },
  "language_info": {
   "codemirror_mode": {
    "name": "ipython",
    "version": 3
   },
   "file_extension": ".py",
   "mimetype": "text/x-python",
   "name": "python",
   "nbconvert_exporter": "python",
   "pygments_lexer": "ipython3",
   "version": "3.9.12"
  },
  "orig_nbformat": 4,
  "vscode": {
   "interpreter": {
    "hash": "061342e0b2b237822d313d90eb843b2691a434c026b842ed01c55ab7ca03c933"
   }
  }
 },
 "nbformat": 4,
 "nbformat_minor": 2
}
