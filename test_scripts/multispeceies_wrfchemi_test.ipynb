{
 "cells": [
  {
   "cell_type": "code",
   "execution_count": 3,
   "metadata": {},
   "outputs": [],
   "source": [
    "from netCDF4 import Dataset\n",
    "import numpy as np"
   ]
  },
  {
   "cell_type": "code",
   "execution_count": 4,
   "metadata": {},
   "outputs": [],
   "source": [
    "# MESH VARIABLES\n",
    "xgrid = 99\n",
    "ygrid = 99\n",
    "zgrid = 1\n",
    "\n",
    "def checkerboard_profile(fx, fy, max_val, min_val):\n",
    "    xrange, yrange = xgrid, ygrid\n",
    "    epsilon = 0.001\n",
    "    Ax, Ay = 1, 1\n",
    "    \n",
    "    #print(f'\\nUsing fx={fx} and fy={fy}\\n')\n",
    "    k = fx*2*np.pi/xrange #wavenumber 2pi / L\n",
    "    m = fy*2*np.pi/yrange\n",
    "    x=np.arange(xrange)\n",
    "    y=np.arange(yrange)\n",
    "    X,Y=np.meshgrid(x,y)\n",
    "    phi=Ax*np.sin(k*X+epsilon)*Ay*np.sin(m*Y+epsilon)\n",
    "\n",
    "    phi_star = phi.copy()\n",
    "\n",
    "    phi_star[phi_star > 0] = max_val\n",
    "    phi_star[phi_star <= 0] = min_val\n",
    "\n",
    "    mesh = np.zeros((xgrid, ygrid, zgrid))\n",
    "    mesh[:, :, 0] = phi_star\n",
    "\n",
    "    # transpose so z, y, x\n",
    "    mesh = mesh.T\n",
    "\n",
    "    mesh = np.ma.array(np.array([mesh]), mask=False, dtype='float32')\n",
    "\n",
    "    return mesh\n",
    "\n",
    "def create_modified_netcdf():\n",
    "    # Code via \n",
    "    # https://stackoverflow.com/questions/15141563/python-netcdf-making-a-copy-of-all-variables-and-attributes-but-one\n",
    "    # User Rich Signell\n",
    "\n",
    "    # Modified by Sam Frederick, October 2022, January 2023\n",
    "    toexclude = ['E_SO2']\n",
    "    emiss_rates = {'E_SO2': 15.228, # mol km^-2 hr^-1\n",
    "                   'E_NO2': 10.872}\n",
    "    \n",
    "\n",
    "    src = Dataset(\"wrfchemi_00z_d01\")\n",
    "    dst = Dataset(\"wrfchemi_test\", \"w\")\n",
    "\n",
    "    # copy global attributes all at once via dictionary\n",
    "    dst.setncatts(src.__dict__)\n",
    "    # copy dimensions\n",
    "    for name, dimension in src.dimensions.items():\n",
    "        dst.createDimension(\n",
    "            name, (len(dimension) if not dimension.isunlimited() else None))\n",
    "    # copy all file data except for the excluded\n",
    "    for name, variable in src.variables.items():\n",
    "        if name not in toexclude:\n",
    "            x = dst.createVariable(name, variable.datatype, variable.dimensions)\n",
    "            dst[name][:] = src[name][:]\n",
    "            # copy variable attributes all at once via dictionary\n",
    "            dst[name].setncatts(src[name].__dict__)\n",
    "        else:\n",
    "            x = dst.createVariable(name, variable.datatype, variable.dimensions)\n",
    "            print(f'..assigning checkboard for {name}')\n",
    "            # assign the profile for all timesteps (assuming time is first dimension)\n",
    "            for i in range(dst[name].shape[0]):\n",
    "                dst[name][i] = checkerboard_profile(max_val=emiss_rates[name], min_val=0.01) \n",
    "            # copy variable attributes all at once via dictionary\n",
    "            dst[name].setncatts(src[name].__dict__)\n",
    "            \n",
    "    emiss_rates.pop('E_SO2')\n",
    "    placeholder_variable = src.variables['E_SO2']\n",
    "    for species, emiss_rate in emiss_rates.items():\n",
    "        x = dst.createVariable(species, placeholder_variable.datatype, placeholder_variable.dimensions)\n",
    "        print(f'..assigning checkboard for {species}')\n",
    "        # assign the profile for all timesteps (assuming time is first dimension)\n",
    "        for i in range(dst[species].shape[0]):\n",
    "            dst[species][i] = checkerboard_profile(max_val=emiss_rate, min_val=0.03) \n",
    "\n",
    "        # copy variable attributes all at once via dictionary\n",
    "        dst[species].setncatts(src['E_SO2'].__dict__)\n",
    "            \n",
    "    src.close()\n",
    "    dst.close()\n",
    "    return"
   ]
  },
  {
   "cell_type": "code",
   "execution_count": 5,
   "metadata": {},
   "outputs": [
    {
     "name": "stdout",
     "output_type": "stream",
     "text": [
      "..assigning checkboard for E_SO2\n",
      "..assigning checkboard for E_NO2\n"
     ]
    }
   ],
   "source": [
    "create_modified_netcdf()"
   ]
  },
  {
   "cell_type": "code",
   "execution_count": null,
   "metadata": {},
   "outputs": [],
   "source": []
  }
 ],
 "metadata": {
  "kernelspec": {
   "display_name": "base",
   "language": "python",
   "name": "python3"
  },
  "language_info": {
   "codemirror_mode": {
    "name": "ipython",
    "version": 3
   },
   "file_extension": ".py",
   "mimetype": "text/x-python",
   "name": "python",
   "nbconvert_exporter": "python",
   "pygments_lexer": "ipython3",
   "version": "3.9.12"
  },
  "orig_nbformat": 4,
  "vscode": {
   "interpreter": {
    "hash": "061342e0b2b237822d313d90eb843b2691a434c026b842ed01c55ab7ca03c933"
   }
  }
 },
 "nbformat": 4,
 "nbformat_minor": 2
}
