{
 "cells": [
  {
   "cell_type": "code",
   "execution_count": 1,
   "metadata": {},
   "outputs": [],
   "source": [
    "import numpy as np\n",
    "from scipy.stats import multivariate_normal\n",
    "import matplotlib.pyplot as plt"
   ]
  },
  {
   "cell_type": "code",
   "execution_count": 2,
   "metadata": {},
   "outputs": [],
   "source": [
    "# MESH VARIABLES\n",
    "xgrid = 100\n",
    "ygrid = 100\n",
    "zgrid = 200"
   ]
  },
  {
   "cell_type": "code",
   "execution_count": 3,
   "metadata": {},
   "outputs": [],
   "source": [
    "def create_mesh_grid():\n",
    "    xmax = xgrid - 1\n",
    "    ymax = ygrid - 1\n",
    "    zmax = zgrid - 1\n",
    "    x, y, z = np.mgrid[0:1:(xmax*1j), 0:1:(ymax*1j), 0:1:(zmax*1j)]\n",
    "\n",
    "    return x, y, z"
   ]
  },
  {
   "cell_type": "code",
   "execution_count": 4,
   "metadata": {},
   "outputs": [],
   "source": [
    "def gauss3d_o3_profile():\n",
    "    x, y, z = create_mesh_grid()\n",
    "    # Need an (N, 2) array of (x, y) pairs.\n",
    "    xyz = np.column_stack([x.flat, y.flat, z.flat])\n",
    "\n",
    "    mu = np.array([.5, .5, 0])\n",
    "\n",
    "    sigma = np.array([.25, .25, .15])\n",
    "    covariance = np.diag(sigma**2)\n",
    "\n",
    "    val = multivariate_normal.pdf(xyz, mean=mu, cov=covariance)\n",
    "\n",
    "    # Reshape back to a (30, 30) grid.\n",
    "    val = val.reshape(x.shape)\n",
    "\n",
    "    # Normalize max to 100 (ppmv) and transpose so orientation is correct (z up)\n",
    "    val = val.T*(100/val.max())\n",
    "\n",
    "    # Assign minimum value via ambient concentration populated in array by WRF-Chem\n",
    "    # prior to modification\n",
    "    val[val<0.03] = 0.03\n",
    "\n",
    "    print(val.shape)\n",
    "\n",
    "    new_o3_vals = np.ma.array(np.array([val]), mask=False, dtype='float32')\n",
    "\n",
    "    return new_o3_vals"
   ]
  },
  {
   "cell_type": "code",
   "execution_count": 19,
   "metadata": {},
   "outputs": [],
   "source": [
    "def checkerboard_profile(fx, fy, xgrid, ygrid, zgrid, max_val, min_val, phase_shift=False):\n",
    "    xrange, yrange = xgrid, ygrid\n",
    "\n",
    "    if (fx == fy) and (fx == 0):\n",
    "        epsilon = 0.0\n",
    "    else:\n",
    "        epsilon = 0.001\n",
    "    Ax, Ay = 1, 1\n",
    "    \n",
    "    #print(f'\\nUsing fx={fx} and fy={fy}\\n')\n",
    "    k = fx*2*np.pi/xrange #wavenumber 2pi / L\n",
    "    m = fy*2*np.pi/yrange\n",
    "    x=np.arange(xrange)\n",
    "    y=np.arange(yrange)\n",
    "    X,Y=np.meshgrid(x,y)\n",
    "    phi=Ax*np.sin(k*X+epsilon)*Ay*np.sin(m*Y+epsilon)\n",
    "\n",
    "    phi_star = phi.copy()\n",
    "\n",
    "    phi_star[phi_star > 0] = max_val\n",
    "    phi_star[phi_star <= 0] = min_val\n",
    "\n",
    "    if phase_shift:\n",
    "        if (fx == fy) or (fx<fy):\n",
    "            axis= 0\n",
    "        else:\n",
    "            axis = 1\n",
    "        phi_star = np.flip(phi_star, axis=axis)\n",
    "\n",
    "    mesh = np.zeros((xgrid, ygrid, zgrid))\n",
    "    mesh[:, :, 0] = phi_star\n",
    "\n",
    "    # transpose so z, y, x\n",
    "    mesh = mesh.T\n",
    "\n",
    "    mesh = np.ma.array(np.array([mesh]), mask=False, dtype='float32')\n",
    "\n",
    "    return mesh\n"
   ]
  },
  {
   "cell_type": "code",
   "execution_count": 22,
   "metadata": {},
   "outputs": [
    {
     "data": {
      "image/png": "[encoded data removed]",
      "text/plain": [
       "<Figure size 432x288 with 1 Axes>"
      ]
     },
     "metadata": {
      "needs_background": "light"
     },
     "output_type": "display_data"
    }
   ],
   "source": [
    "# MESH VARIABLES\n",
    "xgrid = 99\n",
    "ygrid = 99\n",
    "zgrid = 1\n",
    "max_val = 100\n",
    "min_val = 0\n",
    "\n",
    "fx = 0\n",
    "fy = 1\n",
    "\n",
    "profile = checkerboard_profile(fx, fy, xgrid, ygrid, zgrid, max_val, min_val)\n",
    "plt.contourf(profile[0].data[0])\n",
    "plt.gca().set_aspect('equal')"
   ]
  },
  {
   "cell_type": "code",
   "execution_count": 6,
   "metadata": {},
   "outputs": [
    {
     "data": {
      "image/png": "[encoded data removed]",
      "text/plain": [
       "<Figure size 432x288 with 1 Axes>"
      ]
     },
     "metadata": {
      "needs_background": "light"
     },
     "output_type": "display_data"
    }
   ],
   "source": [
    "# MESH VARIABLES\n",
    "xgrid = 99\n",
    "ygrid = 99\n",
    "zgrid = 1\n",
    "max_val = 100\n",
    "min_val = 0\n",
    "\n",
    "fx = 1\n",
    "fy = 0\n",
    "\n",
    "profile = checkerboard_profile(fx, fy, xgrid, ygrid, zgrid, max_val, min_val, phase_shift=True)\n",
    "#profile = profile.T\n",
    "plt.contourf(profile[0].data[0])\n",
    "plt.gca().set_aspect('equal')"
   ]
  },
  {
   "cell_type": "code",
   "execution_count": 23,
   "metadata": {},
   "outputs": [
    {
     "data": {
      "text/plain": [
       "<matplotlib.colorbar.Colorbar at 0x2afb9db0a460>"
      ]
     },
     "execution_count": 23,
     "metadata": {},
     "output_type": "execute_result"
    },
    {
     "data": {
      "image/png": "[encoded data removed]",
      "text/plain": [
       "<Figure size 432x288 with 2 Axes>"
      ]
     },
     "metadata": {
      "needs_background": "light"
     },
     "output_type": "display_data"
    }
   ],
   "source": [
    "# MESH VARIABLES\n",
    "xgrid = 99\n",
    "ygrid = 99\n",
    "zgrid = 1\n",
    "max_val = 100\n",
    "min_val = 0\n",
    "\n",
    "fx = 0\n",
    "fy = 0\n",
    "\n",
    "profile = checkerboard_profile(fx, fy, xgrid, ygrid, zgrid, max_val, min_val, phase_shift=True)\n",
    "#profile = profile.T\n",
    "c = plt.contourf(profile[0].data[0])\n",
    "plt.gca().set_aspect('equal')\n",
    "plt.colorbar()"
   ]
  },
  {
   "cell_type": "code",
   "execution_count": 24,
   "metadata": {},
   "outputs": [
    {
     "data": {
      "text/plain": [
       "0.0"
      ]
     },
     "execution_count": 24,
     "metadata": {},
     "output_type": "execute_result"
    }
   ],
   "source": [
    "profile.data[0].min()"
   ]
  },
  {
   "cell_type": "code",
   "execution_count": null,
   "metadata": {},
   "outputs": [],
   "source": []
  }
 ],
 "metadata": {
  "kernelspec": {
   "display_name": "base",
   "language": "python",
   "name": "python3"
  },
  "language_info": {
   "codemirror_mode": {
    "name": "ipython",
    "version": 3
   },
   "file_extension": ".py",
   "mimetype": "text/x-python",
   "name": "python",
   "nbconvert_exporter": "python",
   "pygments_lexer": "ipython3",
   "version": "3.9.12"
  },
  "orig_nbformat": 4,
  "vscode": {
   "interpreter": {
    "hash": "061342e0b2b237822d313d90eb843b2691a434c026b842ed01c55ab7ca03c933"
   }
  }
 },
 "nbformat": 4,
 "nbformat_minor": 2
}
