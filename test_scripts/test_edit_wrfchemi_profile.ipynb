{
 "cells": [
  {
   "cell_type": "code",
   "execution_count": 14,
   "metadata": {},
   "outputs": [],
   "source": [
    "import numpy as np\n",
    "\n",
    "import os, sys\n",
    "from netCDF4 import Dataset\n",
    "\n",
    "# MESH VARIABLES\n",
    "xgrid = 99\n",
    "ygrid = 99\n",
    "zgrid = 1"
   ]
  },
  {
   "cell_type": "code",
   "execution_count": 64,
   "metadata": {},
   "outputs": [],
   "source": [
    "def checkerboard_profile():\n",
    "    xrange, yrange = xgrid, ygrid\n",
    "    epsilon = 0.001\n",
    "    Ax, Ay = 1, 1\n",
    "    fx, fy = 1, 1\n",
    "    print(f'\\nUsing fx={fx} and fy={fy}\\n')\n",
    "    k = fx*2*np.pi/xrange #wavenumber 2pi / L\n",
    "    m = fy*2*np.pi/yrange\n",
    "    x=np.arange(xrange)\n",
    "    y=np.arange(yrange)\n",
    "    X,Y=np.meshgrid(x,y)\n",
    "    phi=Ax*np.sin(k*X+epsilon)*Ay*np.sin(m*Y+epsilon)\n",
    "\n",
    "    phi_star = phi.copy()\n",
    "\n",
    "    max_conc = 100 # ppmv (o3) \n",
    "    min_conc = 0.03 #ppmv (o3)\n",
    "\n",
    "    phi_star[phi_star > 0] = max_conc\n",
    "    phi_star[phi_star <= 0] = min_conc\n",
    "\n",
    "    mesh = np.zeros((xgrid, ygrid, zgrid))\n",
    "    mesh[:, :, 0] = phi_star\n",
    "\n",
    "    # transpose so z, y, x\n",
    "    mesh = mesh.T\n",
    "\n",
    "    mesh = np.ma.array(np.array([mesh]), mask=False, dtype='float32')\n",
    "\n",
    "    return mesh"
   ]
  },
  {
   "cell_type": "code",
   "execution_count": 77,
   "metadata": {},
   "outputs": [],
   "source": [
    "def create_modified_netcdf():\n",
    "    # Code via \n",
    "    # https://stackoverflow.com/questions/15141563/python-netcdf-making-a-copy-of-all-variables-and-attributes-but-one\n",
    "    # User Rich Signell\n",
    "    \n",
    "    emissions_profile = checkerboard_profile()\n",
    "\n",
    "    toexclude = ['E_SO2']\n",
    "\n",
    "    src = Dataset(\"wrfchemi_00z_d01\")\n",
    "    dst = Dataset(\"wrfchemi_00z_d01_modified\", \"w\")\n",
    "\n",
    "    # copy global attributes all at once via dictionary\n",
    "    dst.setncatts(src.__dict__)\n",
    "    # copy dimensions\n",
    "    for name, dimension in src.dimensions.items():\n",
    "        dst.createDimension(\n",
    "            name, (len(dimension) if not dimension.isunlimited() else None))\n",
    "    # copy all file data except for the excluded\n",
    "    for name, variable in src.variables.items():\n",
    "        if name not in toexclude:\n",
    "            x = dst.createVariable(name, variable.datatype, variable.dimensions)\n",
    "            dst[name][:] = src[name][:]\n",
    "            # copy variable attributes all at once via dictionary\n",
    "            dst[name].setncatts(src[name].__dict__)\n",
    "        else:\n",
    "            x = dst.createVariable(name, variable.datatype, variable.dimensions)\n",
    "\n",
    "            # assign the profile for all timesteps (assuming time is first dimension)\n",
    "            for i in range(dst[name].shape[0]):\n",
    "                dst[name][i] = emissions_profile \n",
    "            # copy variable attributes all at once via dictionary\n",
    "            dst[name].setncatts(src[name].__dict__)\n",
    "            \n",
    "    src.close()\n",
    "    dst.close()\n",
    "    return\n"
   ]
  },
  {
   "cell_type": "code",
   "execution_count": 79,
   "metadata": {},
   "outputs": [
    {
     "name": "stdout",
     "output_type": "stream",
     "text": [
      "\n",
      "Using fx=1 and fy=1\n",
      "\n"
     ]
    }
   ],
   "source": [
    "create_modified_netcdf()"
   ]
  },
  {
   "cell_type": "code",
   "execution_count": 71,
   "metadata": {},
   "outputs": [],
   "source": [
    "src = Dataset(\"wrfchemi_00z_d01\")"
   ]
  },
  {
   "cell_type": "code",
   "execution_count": 3,
   "metadata": {},
   "outputs": [
    {
     "ename": "NameError",
     "evalue": "name 'Dataset' is not defined",
     "output_type": "error",
     "traceback": [
      "\u001b[0;31m---------------------------------------------------------------------------\u001b[0m",
      "\u001b[0;31mNameError\u001b[0m                                 Traceback (most recent call last)",
      "\u001b[1;32m/data/keeling/a/sf20/b/WRF4_4/WRF/test/em_les/test_edit_wrfchemi_profile.ipynb Cell 6\u001b[0m in \u001b[0;36m<cell line: 1>\u001b[0;34m()\u001b[0m\n\u001b[0;32m----> <a href='vscode-notebook-cell://ssh-remote%2Bkeeling.earth.illinois.edu/data/keeling/a/sf20/b/WRF4_4/WRF/test/em_les/test_edit_wrfchemi_profile.ipynb#W5sdnNjb2RlLXJlbW90ZQ%3D%3D?line=0'>1</a>\u001b[0m mod_src \u001b[39m=\u001b[39m Dataset(\u001b[39m\"\u001b[39m\u001b[39mwrfchemi_00z_d01_modified\u001b[39m\u001b[39m\"\u001b[39m)\n",
      "\u001b[0;31mNameError\u001b[0m: name 'Dataset' is not defined"
     ]
    }
   ],
   "source": [
    "mod_src = Dataset(\"wrfchemi_00z_d01_modified\")"
   ]
  },
  {
   "cell_type": "code",
   "execution_count": 70,
   "metadata": {},
   "outputs": [
    {
     "data": {
      "text/plain": [
       "<class 'netCDF4._netCDF4.Variable'>\n",
       "float32 E_SO2(Time, emissions_zdim_stag, south_north, west_east)\n",
       "    MemoryOrder: XYZ\n",
       "    description: EMISSIONS\n",
       "    units: mol km^-2 hr^-1\n",
       "    stagger: Z\n",
       "    FieldType: 104\n",
       "unlimited dimensions: Time\n",
       "current shape = (12, 1, 99, 99)\n",
       "filling on, default _FillValue of 9.969209968386869e+36 used"
      ]
     },
     "execution_count": 70,
     "metadata": {},
     "output_type": "execute_result"
    }
   ],
   "source": [
    "mod_src['E_SO2']"
   ]
  },
  {
   "cell_type": "code",
   "execution_count": 81,
   "metadata": {},
   "outputs": [
    {
     "data": {
      "text/plain": [
       "masked_array(\n",
       "  data=[[[1.e+02, 1.e+02, 1.e+02, ..., 3.e-02, 3.e-02, 3.e-02],\n",
       "         [1.e+02, 1.e+02, 1.e+02, ..., 3.e-02, 3.e-02, 3.e-02],\n",
       "         [1.e+02, 1.e+02, 1.e+02, ..., 3.e-02, 3.e-02, 3.e-02],\n",
       "         ...,\n",
       "         [3.e-02, 3.e-02, 3.e-02, ..., 1.e+02, 1.e+02, 1.e+02],\n",
       "         [3.e-02, 3.e-02, 3.e-02, ..., 1.e+02, 1.e+02, 1.e+02],\n",
       "         [3.e-02, 3.e-02, 3.e-02, ..., 1.e+02, 1.e+02, 1.e+02]]],\n",
       "  mask=False,\n",
       "  fill_value=1e+20,\n",
       "  dtype=float32)"
      ]
     },
     "execution_count": 81,
     "metadata": {},
     "output_type": "execute_result"
    }
   ],
   "source": [
    "mod_src['E_SO2'][0]"
   ]
  },
  {
   "cell_type": "code",
   "execution_count": 2,
   "metadata": {},
   "outputs": [
    {
     "ename": "NameError",
     "evalue": "name 'mod_src' is not defined",
     "output_type": "error",
     "traceback": [
      "\u001b[0;31m---------------------------------------------------------------------------\u001b[0m",
      "\u001b[0;31mNameError\u001b[0m                                 Traceback (most recent call last)",
      "\u001b[1;32m/data/keeling/a/sf20/b/WRF4_4/WRF/test/em_les/test_edit_wrfchemi_profile.ipynb Cell 9\u001b[0m in \u001b[0;36m<cell line: 1>\u001b[0;34m()\u001b[0m\n\u001b[0;32m----> <a href='vscode-notebook-cell://ssh-remote%2Bkeeling.earth.illinois.edu/data/keeling/a/sf20/b/WRF4_4/WRF/test/em_les/test_edit_wrfchemi_profile.ipynb#X11sdnNjb2RlLXJlbW90ZQ%3D%3D?line=0'>1</a>\u001b[0m mod_src[\u001b[39m'\u001b[39m\u001b[39mE_SO2\u001b[39m\u001b[39m'\u001b[39m][\u001b[39m-\u001b[39m\u001b[39m1\u001b[39m]\n",
      "\u001b[0;31mNameError\u001b[0m: name 'mod_src' is not defined"
     ]
    }
   ],
   "source": [
    "mod_src['E_SO2'][-1]"
   ]
  },
  {
   "cell_type": "code",
   "execution_count": null,
   "metadata": {},
   "outputs": [],
   "source": []
  }
 ],
 "metadata": {
  "kernelspec": {
   "display_name": "base",
   "language": "python",
   "name": "python3"
  },
  "language_info": {
   "codemirror_mode": {
    "name": "ipython",
    "version": 3
   },
   "file_extension": ".py",
   "mimetype": "text/x-python",
   "name": "python",
   "nbconvert_exporter": "python",
   "pygments_lexer": "ipython3",
   "version": "3.9.12"
  },
  "orig_nbformat": 4,
  "vscode": {
   "interpreter": {
    "hash": "061342e0b2b237822d313d90eb843b2691a434c026b842ed01c55ab7ca03c933"
   }
  }
 },
 "nbformat": 4,
 "nbformat_minor": 2
}
